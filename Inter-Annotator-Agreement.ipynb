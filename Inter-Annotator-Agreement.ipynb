{
 "cells": [
  {
   "cell_type": "code",
   "execution_count": 1,
   "metadata": {},
   "outputs": [],
   "source": [
    "from matplotlib.colors import LinearSegmentedColormap\n",
    "import matplotlib.pyplot as plt\n",
    "import numpy as np\n",
    "import pandas as pd\n",
    "import random\n",
    "import seaborn as sns\n",
    "\n",
    "pd.set_option('display.max_columns', None)\n",
    "pd.set_option('display.max_rows', None)\n",
    "\n",
    "\n",
    "df = pd.read_excel('smFISH_screen_annotations.xlsx', header=[2])\n",
    "df = df.iloc[1:201, 1:11]"
   ]
  },
  {
   "cell_type": "markdown",
   "metadata": {},
   "source": [
    "## Importing the scoring"
   ]
  },
  {
   "cell_type": "code",
   "execution_count": 4,
   "metadata": {},
   "outputs": [],
   "source": [
    "df_VNC_1 = pd.read_csv('scoringResults/VNC/rater1.csv')\n",
    "df_VNC_2 = pd.read_csv('scoringResults/VNC/rater2.csv')\n",
    "df_VNC_3 = pd.read_csv('scoringResults/VNC/rater3.csv')\n",
    "\n",
    "df_NMJ_1 = pd.read_csv('scoringResults/NMJ/rater1.csv')\n",
    "df_NMJ_2 = pd.read_csv('scoringResults/NMJ/rater2.csv')\n",
    "df_NMJ_3 = pd.read_csv('scoringResults/NMJ/rater3.csv')\n",
    "\n",
    "df_CB_1 = pd.read_csv('scoringResults/CB/rater1.csv')\n",
    "df_CB_2 = pd.read_csv('scoringResults/CB/rater2.csv')\n",
    "df_CB_3 = pd.read_csv('scoringResults/CB/rater3.csv')\n",
    "\n",
    "df_MB_1 = pd.read_csv('scoringResults/MB/rater1.csv')\n",
    "df_MB_2 = pd.read_csv('scoringResults/MB/rater2.csv')\n",
    "df_MB_3 = pd.read_csv('scoringResults/MB/rater3.csv')\n",
    "\n",
    "df_OL_1 = pd.read_csv('scoringResults/OL/rater1.csv')\n",
    "df_OL_2 = pd.read_csv('scoringResults/OL/rater2.csv')\n",
    "df_OL_3 = pd.read_csv('scoringResults/OL/rater3.csv')\n",
    "\n",
    "df_nerve_1 = pd.read_csv('scoringResults/nerve/rater1.csv')\n",
    "df_nerve_2 = pd.read_csv('scoringResults/nerve/rater2.csv')\n",
    "df_nerve_3 = pd.read_csv('scoringResults/nerve/rater3.csv')\n",
    "\n"
   ]
  },
  {
   "cell_type": "markdown",
   "metadata": {},
   "source": [
    "## Making dataframes comparable\n",
    "\n",
    "1. function threeway_comparer \n",
    "    * Make sure the dataframes are equal, e.g. keeping common columns and common figures\n",
    "    * Removing \"pattern\" questions as they take multiple answers"
   ]
  },
  {
   "cell_type": "code",
   "execution_count": 5,
   "metadata": {},
   "outputs": [],
   "source": [
    "def threeway_comparer(df1, df2, df3, column_figures, columns_string, columns_drop=None):\n",
    "    if columns_drop is None:\n",
    "        columns_drop = []\n",
    "    pass\n",
    "    \n",
    "    df_common = df1.merge(df2, on=column_figures, how='inner')\n",
    "    common_index = list(df_common.merge(df3, on=column_figures, how='inner')[column_figures])\n",
    "    common_columns = list((df2.columns.intersection(df1.columns)).intersection(df3.columns))\n",
    "    \n",
    "    df_1 = df1[common_columns].set_index(column_figures)\n",
    "    df_1 = df_1[df_1.index.isin(common_index)].sort_index()\n",
    "    df_1.fillna('Non applicable / Missing Image', inplace=True)\n",
    "\n",
    "    df_2 = df2[common_columns].set_index(column_figures)\n",
    "    df_2 = df_2[df_2.index.isin(common_index)].sort_index()\n",
    "    df_2.fillna('Non applicable / Missing Image', inplace=True)\n",
    "\n",
    "    df_3 = df3[common_columns].set_index(column_figures)\n",
    "    df_3 = df_3[df_3.index.isin(common_index)].sort_index()\n",
    "    df_3.fillna('Non applicable / Missing Image', inplace=True)\n",
    "\n",
    "    common_columns.remove(column_figures)\n",
    "    columns_numeric = list(set(common_columns)^set(columns_string)^set(columns_drop))\n",
    "\n",
    "    return df_1[columns_numeric], df_2[columns_numeric], df_3[columns_numeric]"
   ]
  },
  {
   "cell_type": "markdown",
   "metadata": {},
   "source": [
    "## Defining functions for Inter Observer Agreement"
   ]
  },
  {
   "cell_type": "markdown",
   "metadata": {},
   "source": [
    "#### Simple agreement (per question)"
   ]
  },
  {
   "cell_type": "code",
   "execution_count": 6,
   "metadata": {},
   "outputs": [],
   "source": [
    "def simple_agreement(df1, df2):\n",
    "    \"\"\"Computes simple agreement for pair-wise annotators.\n",
    "    :param ann1: annotations dataframe provided by first annotator\n",
    "    :type ann1: df\n",
    "    :param ann2: annotations dataframe provided by second annotator\n",
    "    :type ann2: df\n",
    "    :rtype: float\n",
    "    :return: percentage of simple agreement\n",
    "    \"\"\"\n",
    "\n",
    "    simple_agreement_question = []\n",
    "    \n",
    "    for i in range(0, df1.shape[1]):\n",
    "        ann1 = df1.T.to_numpy()[i].tolist()\n",
    "        ann2 = df2.T.to_numpy()[i].tolist()\n",
    "\n",
    "        count = 0\n",
    "        for an1, an2 in zip(ann1, ann2):\n",
    "            if an1 == an2:\n",
    "                count += 1\n",
    "        A = count / len(ann1)  # observed agreement A (Po)\n",
    "\n",
    "        simple_agreement_question.append(A)\n",
    "        \n",
    "    df_simple_agreement = pd.DataFrame(simple_agreement_question, index= df1.columns, columns= ['Simple Agreement'])#.T\n",
    "    \n",
    "    return df_simple_agreement"
   ]
  },
  {
   "cell_type": "markdown",
   "metadata": {},
   "source": [
    "#### Cohen Kappa (per dataframe)"
   ]
  },
  {
   "cell_type": "code",
   "execution_count": 7,
   "metadata": {},
   "outputs": [],
   "source": [
    "def cohen_kappa(df1, df2):\n",
    "    \"\"\"Computes Cohen kappa for pair-wise annotators.\n",
    "    :param ann1: annotations dataframe provided by first annotator\n",
    "    :type ann1: df\n",
    "    :param ann2: annotations dataframe provided by second annotator\n",
    "    :type ann2: df\n",
    "    :rtype: float\n",
    "    :return: Cohen kappa statistic\n",
    "    \n",
    "    cite: https://towardsdatascience.com/inter-annotator-agreement-2f46c6d37bf3\n",
    "    \"\"\"\n",
    "    ann1 = df1.to_numpy().flatten().tolist()\n",
    "    ann2 = df2.to_numpy().flatten().tolist()\n",
    "\n",
    "    count = 0\n",
    "    for an1, an2 in zip(ann1, ann2):\n",
    "        if an1 == an2:\n",
    "            count += 1\n",
    "    A = count / len(ann1)  # observed agreement A (Po)\n",
    "\n",
    "    uniq = set(ann1 + ann2)\n",
    "    E = 0  # expected agreement E (Pe)\n",
    "    for item in uniq:\n",
    "        cnt1 = ann1.count(item)\n",
    "        cnt2 = ann2.count(item)\n",
    "        count = ((cnt1 / len(ann1)) * (cnt2 / len(ann2)))\n",
    "        E += count\n",
    "\n",
    "    return round((A - E) / (1 - E), 4)"
   ]
  },
  {
   "cell_type": "markdown",
   "metadata": {},
   "source": [
    "#### Cohen Kappa (per question)"
   ]
  },
  {
   "cell_type": "code",
   "execution_count": 8,
   "metadata": {},
   "outputs": [],
   "source": [
    "def cohen_kappa_que(df1, df2):\n",
    "    \"\"\"Computes Cohen kappa for pair-wise annotators for each question.\n",
    "    :param ann1: annotations dataframe provided by first annotator\n",
    "    :type ann1: df\n",
    "    :param ann2: annotations dataframe provided by second annotator\n",
    "    :type ann2: df\n",
    "    :type: float\n",
    "    :return: Cohen kappa statistic\n",
    "    \n",
    "    cite: https://towardsdatascience.com/inter-annotator-agreement-2f46c6d37bf3\n",
    "    \"\"\"\n",
    "    cohen_kappa_question = []\n",
    "    \n",
    "    for i in range(0, df1.shape[1]):\n",
    "        ann1 = df1.T.to_numpy()[i].tolist()\n",
    "        ann2 = df2.T.to_numpy()[i].tolist()\n",
    "\n",
    "        count = 0\n",
    "        for an1, an2 in zip(ann1, ann2):\n",
    "            if an1 == an2:\n",
    "                count += 1\n",
    "        A = count / len(ann1)  # observed agreement A (Po)\n",
    "\n",
    "        uniq = set(ann1 + ann2)\n",
    "        E = 0  # expected agreement E (Pe)\n",
    "        for item in uniq:\n",
    "            cnt1 = ann1.count(item)\n",
    "            cnt2 = ann2.count(item)\n",
    "            count = ((cnt1 / len(ann1)) * (cnt2 / len(ann2)))\n",
    "            E += count\n",
    "\n",
    "        cohen_kappa_question.append(round((A - E) / (1 - E), 4))\n",
    "        \n",
    "    df_cohen_k = pd.DataFrame(cohen_kappa_question, index= df1.columns, columns= ['Cohen Kappa'])#.T\n",
    "    \n",
    "    return df_cohen_k #cohen_kappa_question"
   ]
  },
  {
   "cell_type": "markdown",
   "metadata": {},
   "source": [
    "# Mushroom Body"
   ]
  },
  {
   "cell_type": "code",
   "execution_count": 9,
   "metadata": {},
   "outputs": [],
   "source": [
    "columns_drop_MB = ['General comments', \n",
    "                   'Flag this gene as a potential one to use for a figure in the paper?',\n",
    "                   'Is figure quality too poor?', \n",
    "                   'Nascent transcript level', \n",
    "                   'Is there obvious RNA/protein discordance (whole image)?', \n",
    "                   'Cytosolic RNA level', \n",
    "                   'What is the level of protein expression?', \n",
    "                   'What is the level of RNA expression?']\n",
    "\n",
    "\n",
    "df_1MB, df_2MB, df_3MB = threeway_comparer(df_MB_1, df_MB_2,  df_MB_3, 'figure_id', \n",
    "                         ['If there is RNA expression, what patterns does the RNA make?',\n",
    "                          'If there is protein expression, what patterns does the protein make?'], columns_drop_MB)\n",
    "\n",
    "dfaMB = (cohen_kappa_que(df_2MB, df_3MB))\n",
    "dfbMB = (cohen_kappa_que(df_2MB, df_1MB))\n",
    "dfcMB = (cohen_kappa_que(df_3MB, df_1MB))\n",
    "\n",
    "dfMB_mean = (dfaMB + dfbMB + dfcMB)/3\n",
    "\n",
    "\n",
    "df_simple_aMB = simple_agreement(df_3MB, df_2MB)\n",
    "df_simple_bMB = simple_agreement(df_1MB, df_2MB)\n",
    "df_simple_cMB = simple_agreement(df_1MB, df_3MB)\n",
    "\n",
    "dfMB_simple_mean = (df_simple_aMB + df_simple_bMB + df_simple_cMB)/3"
   ]
  },
  {
   "cell_type": "code",
   "execution_count": 10,
   "metadata": {},
   "outputs": [],
   "source": [
    "df_MB_agreement = df_1MB.copy()\n",
    "\n",
    "for column in df_MB_agreement.columns:\n",
    "\n",
    "    df_MB_agreement[column] = np.where(((df_1MB[column] != df_2MB[column]) & (df_1MB[column] == df_3MB[column])), 2, df_MB_agreement[column])\n",
    "    df_MB_agreement[column] = np.where(((df_1MB[column] != df_2MB[column]) & (df_2MB[column] == df_3MB[column])), 2, df_MB_agreement[column])\n",
    "\n",
    "    df_MB_agreement[column] = np.where(((df_2MB[column] != df_3MB[column]) & (df_2MB[column] == df_1MB[column])), 2, df_MB_agreement[column])\n",
    "    df_MB_agreement[column] = np.where(((df_2MB[column] != df_3MB[column]) & (df_3MB[column] == df_1MB[column])), 2, df_MB_agreement[column])\n",
    "\n",
    "    df_MB_agreement[column] = np.where(((df_1MB[column] != df_3MB[column]) & (df_1MB[column] == df_2MB[column])), 2, df_MB_agreement[column])\n",
    "    df_MB_agreement[column] = np.where(((df_1MB[column] != df_3MB[column]) & (df_3MB[column] == df_2MB[column])), 2, df_MB_agreement[column])\n",
    "\n",
    "\n",
    "    df_MB_agreement[column] = np.where(((df_1MB[column] == df_2MB[column]) & (df_3MB[column] == df_2MB[column]) & (df_3MB[column] == df_1MB[column])), 3, df_MB_agreement[column])\n",
    "    df_MB_agreement[column] = np.where(((df_1MB[column] != df_2MB[column]) & (df_3MB[column] != df_2MB[column]) & (df_3MB[column] != df_1MB[column])), 0, df_MB_agreement[column])\n",
    "\n",
    "#df_MB_agreement"
   ]
  },
  {
   "cell_type": "markdown",
   "metadata": {},
   "source": [
    "# Central Brain\n",
    "## Agreement values"
   ]
  },
  {
   "cell_type": "code",
   "execution_count": 11,
   "metadata": {},
   "outputs": [],
   "source": [
    "columns_drop_CB = ['General comments', \n",
    "                   'Flag this gene as a potential one to use for a figure in the paper?',\n",
    "                   'Is figure quality too poor?', \n",
    "                   'Nascent transcript level', \n",
    "                   'Is there obvious RNA/protein discordance (whole image)?', \n",
    "                   'Cytosolic RNA level', \n",
    "                   'What is the level of protein expression?', \n",
    "                   'What is the level of RNA expression?']\n",
    "\n",
    "\n",
    "df_1CB, df_2CB, df_3CB = threeway_comparer(df_CB_1, df_CB_2,  df_CB_3, 'figure_id', \n",
    "                         ['If there is RNA expression, what patterns does the RNA make?',\n",
    "                          'If there is protein expression, what patterns does the protein make?'], columns_drop_CB)\n",
    "\n",
    "dfaCB = (cohen_kappa_que(df_2CB, df_3CB))\n",
    "dfbCB = (cohen_kappa_que(df_2CB, df_1CB))\n",
    "dfcCB = (cohen_kappa_que(df_3CB, df_1CB))\n",
    "\n",
    "dfCB_mean = (dfaCB + dfbCB + dfcCB)/3\n",
    "\n",
    "\n",
    "df_simple_aCB = simple_agreement(df_3CB, df_2CB)\n",
    "df_simple_bCB = simple_agreement(df_1CB, df_2CB)\n",
    "df_simple_cCB = simple_agreement(df_1CB, df_3CB)\n",
    "\n",
    "dfCB_simple_mean = (df_simple_aCB + df_simple_bCB + df_simple_cCB)/3"
   ]
  },
  {
   "cell_type": "markdown",
   "metadata": {},
   "source": [
    "## Agreement matrix"
   ]
  },
  {
   "cell_type": "code",
   "execution_count": 13,
   "metadata": {},
   "outputs": [],
   "source": [
    "df_CB_agreement = df_1CB.copy()\n",
    "\n",
    "for column in df_CB_agreement.columns:\n",
    "\n",
    "    df_CB_agreement[column] = np.where(((df_1CB[column] != df_2CB[column]) & (df_1CB[column] == df_3CB[column])), 2, df_CB_agreement[column])\n",
    "    df_CB_agreement[column] = np.where(((df_1CB[column] != df_2CB[column]) & (df_2CB[column] == df_3CB[column])), 2, df_CB_agreement[column])\n",
    "\n",
    "    df_CB_agreement[column] = np.where(((df_2CB[column] != df_3CB[column]) & (df_2CB[column] == df_1CB[column])), 2, df_CB_agreement[column])\n",
    "    df_CB_agreement[column] = np.where(((df_2CB[column] != df_3CB[column]) & (df_3CB[column] == df_1CB[column])), 2, df_CB_agreement[column])\n",
    "\n",
    "    df_CB_agreement[column] = np.where(((df_1CB[column] != df_3CB[column]) & (df_1CB[column] == df_2CB[column])), 2, df_CB_agreement[column])\n",
    "    df_CB_agreement[column] = np.where(((df_1CB[column] != df_3CB[column]) & (df_3CB[column] == df_2CB[column])), 2, df_CB_agreement[column])\n",
    "\n",
    "    df_CB_agreement[column] = np.where(((df_1CB[column] == df_2CB[column]) & (df_3CB[column] == df_2CB[column]) & (df_3CB[column] == df_1CB[column])), 3, df_CB_agreement[column])\n",
    "    df_CB_agreement[column] = np.where(((df_1CB[column] != df_2CB[column]) & (df_3CB[column] != df_2CB[column]) & (df_3CB[column] != df_1CB[column])), 0, df_CB_agreement[column])\n",
    "\n",
    "#df_CB_agreement"
   ]
  },
  {
   "cell_type": "markdown",
   "metadata": {},
   "source": [
    "# Ventral Nerve Cord"
   ]
  },
  {
   "cell_type": "code",
   "execution_count": 14,
   "metadata": {},
   "outputs": [],
   "source": [
    "columns_drop_VNC = ['General comments', \n",
    "                   'Flag this gene as a potential one to use for a figure in the paper?',\n",
    "                   'Is figure quality too poor?', \n",
    "                   'Nascent transcript level', \n",
    "                   'Is there obvious RNA/protein discordance (whole image)?', \n",
    "                   'Cytosolic RNA level', \n",
    "                   'What is the level of protein expression?', \n",
    "                   'What is the level of RNA expression?']\n",
    "\n",
    "\n",
    "df_1VNC, df_2VNC, df_3VNC = threeway_comparer(df_VNC_1, df_VNC_2,  df_VNC_3, 'figure_id', \n",
    "                         ['If there is RNA expression, what patterns does the RNA make?',\n",
    "                          'If there is protein expression, what patterns does the protein make?'], columns_drop_VNC)\n",
    "\n",
    "dfaVNC = (cohen_kappa_que(df_2VNC, df_3VNC))\n",
    "dfbVNC = (cohen_kappa_que(df_2VNC, df_1VNC))\n",
    "dfcVNC = (cohen_kappa_que(df_3VNC, df_1VNC))\n",
    "\n",
    "dfVNC_mean = (dfaVNC + dfbVNC + dfcVNC)/3\n",
    "\n",
    "\n",
    "df_simple_aVNC = simple_agreement(df_3VNC, df_2VNC)\n",
    "df_simple_bVNC = simple_agreement(df_1VNC, df_2VNC)\n",
    "df_simple_cVNC = simple_agreement(df_1VNC, df_3VNC)\n",
    "\n",
    "dfVNC_simple_mean = (df_simple_aVNC + df_simple_bVNC + df_simple_cVNC)/3"
   ]
  },
  {
   "cell_type": "code",
   "execution_count": 15,
   "metadata": {},
   "outputs": [],
   "source": [
    "df_VNC_agreement = df_1VNC.copy()\n",
    "\n",
    "for column in df_VNC_agreement.columns:\n",
    "\n",
    "    df_VNC_agreement[column] = np.where(((df_1VNC[column] != df_2VNC[column]) & (df_1VNC[column] == df_3VNC[column])), 2, df_VNC_agreement[column])\n",
    "    df_VNC_agreement[column] = np.where(((df_1VNC[column] != df_2VNC[column]) & (df_2VNC[column] == df_3VNC[column])), 2, df_VNC_agreement[column])\n",
    "\n",
    "    df_VNC_agreement[column] = np.where(((df_2VNC[column] != df_3VNC[column]) & (df_2VNC[column] == df_1VNC[column])), 2, df_VNC_agreement[column])\n",
    "    df_VNC_agreement[column] = np.where(((df_2VNC[column] != df_3VNC[column]) & (df_3VNC[column] == df_1VNC[column])), 2, df_VNC_agreement[column])\n",
    "\n",
    "    df_VNC_agreement[column] = np.where(((df_1VNC[column] != df_3VNC[column]) & (df_1VNC[column] == df_2VNC[column])), 2, df_VNC_agreement[column])\n",
    "    df_VNC_agreement[column] = np.where(((df_1VNC[column] != df_3VNC[column]) & (df_3VNC[column] == df_2VNC[column])), 2, df_VNC_agreement[column])\n",
    "\n",
    "    df_VNC_agreement[column] = np.where(((df_1VNC[column] == df_2VNC[column]) & (df_3VNC[column] == df_2VNC[column]) & (df_3VNC[column] == df_1VNC[column])), 3, df_VNC_agreement[column])\n",
    "    df_VNC_agreement[column] = np.where(((df_1VNC[column] != df_2VNC[column]) & (df_3VNC[column] != df_2VNC[column]) & (df_3VNC[column] != df_1VNC[column])), 0, df_VNC_agreement[column])\n",
    "\n",
    "#df_VNC_agreement"
   ]
  },
  {
   "cell_type": "markdown",
   "metadata": {},
   "source": [
    "# Neuromuscular Junction"
   ]
  },
  {
   "cell_type": "code",
   "execution_count": 16,
   "metadata": {},
   "outputs": [],
   "source": [
    "columns_drop_NMJ = ['General comments', \n",
    "                   'Flag this gene as a potential one to use for a figure in the paper?',\n",
    "                   'Is figure quality too poor?', \n",
    "                   'Nascent transcript level', \n",
    "                   'Is there obvious RNA/protein discordance (whole image)?', \n",
    "                   'Cytosolic RNA level', \n",
    "                   'What is the level of protein expression?', \n",
    "                   'What is the level of RNA expression?', \n",
    "                    'Is protein distribution cell-type specific?', \n",
    "                    'Is RNA distribution cell-type specific?']\n",
    "\n",
    "\n",
    "df_1NMJ, df_2NMJ, df_3NMJ = threeway_comparer(df_NMJ_1, df_NMJ_2,  df_NMJ_3, 'figure_id', \n",
    "                         ['What patterns does the RNA make?',\n",
    "                          'What patterns does the protein make?'], columns_drop_NMJ)\n",
    "\n",
    "dfaNMJ = (cohen_kappa_que(df_2NMJ, df_3NMJ))\n",
    "dfbNMJ = (cohen_kappa_que(df_2NMJ, df_1NMJ))\n",
    "dfcNMJ = (cohen_kappa_que(df_3NMJ, df_1NMJ))\n",
    "\n",
    "dfNMJ_mean = (dfaNMJ + dfbNMJ + dfcNMJ)/3\n",
    "\n",
    "\n",
    "df_simple_aNMJ = simple_agreement(df_3NMJ, df_2NMJ)\n",
    "df_simple_bNMJ = simple_agreement(df_1NMJ, df_2NMJ)\n",
    "df_simple_cNMJ = simple_agreement(df_1NMJ, df_3NMJ)\n",
    "\n",
    "dfNMJ_simple_mean = (df_simple_aNMJ + df_simple_bNMJ + df_simple_cNMJ)/3"
   ]
  },
  {
   "cell_type": "code",
   "execution_count": 17,
   "metadata": {},
   "outputs": [],
   "source": [
    "df_NMJ_agreement = df_1NMJ.copy()\n",
    "\n",
    "for column in df_NMJ_agreement.columns:\n",
    "\n",
    "    df_NMJ_agreement[column] = np.where(((df_1NMJ[column] != df_2NMJ[column]) & (df_1NMJ[column] == df_3NMJ[column])), 2, df_NMJ_agreement[column])\n",
    "    df_NMJ_agreement[column] = np.where(((df_1NMJ[column] != df_2NMJ[column]) & (df_2NMJ[column] == df_3NMJ[column])), 2, df_NMJ_agreement[column])\n",
    "\n",
    "    df_NMJ_agreement[column] = np.where(((df_2NMJ[column] != df_3NMJ[column]) & (df_2NMJ[column] == df_1NMJ[column])), 2, df_NMJ_agreement[column])\n",
    "    df_NMJ_agreement[column] = np.where(((df_2NMJ[column] != df_3NMJ[column]) & (df_3NMJ[column] == df_1NMJ[column])), 2, df_NMJ_agreement[column])\n",
    "\n",
    "    df_NMJ_agreement[column] = np.where(((df_1NMJ[column] != df_3NMJ[column]) & (df_1NMJ[column] == df_2NMJ[column])), 2, df_NMJ_agreement[column])\n",
    "    df_NMJ_agreement[column] = np.where(((df_1NMJ[column] != df_3NMJ[column]) & (df_3NMJ[column] == df_2NMJ[column])), 2, df_NMJ_agreement[column])\n",
    "\n",
    "    df_NMJ_agreement[column] = np.where(((df_1NMJ[column] == df_2NMJ[column]) & (df_3NMJ[column] == df_2NMJ[column]) & (df_3NMJ[column] == df_1NMJ[column])), 3, df_NMJ_agreement[column])\n",
    "    df_NMJ_agreement[column] = np.where(((df_1NMJ[column] != df_2NMJ[column]) & (df_3NMJ[column] != df_2NMJ[column]) & (df_3NMJ[column] != df_1NMJ[column])), 0, df_NMJ_agreement[column])\n",
    "\n",
    "#df_NMJ_agreement"
   ]
  },
  {
   "cell_type": "markdown",
   "metadata": {},
   "source": [
    "# Optic Lobe"
   ]
  },
  {
   "cell_type": "code",
   "execution_count": 18,
   "metadata": {},
   "outputs": [],
   "source": [
    "columns_drop_OL = ['General comments', \n",
    "                   'Flag this gene as a potential one to use for a figure in the paper?',\n",
    "                   'Nascent transcript level', \n",
    "                   'Is there obvious RNA/protein discordance (whole image)?', \n",
    "                   'Cytosolic RNA level', \n",
    "                   'What is the level of protein expression?', \n",
    "                   'What is the level of RNA expression?']\n",
    "\n",
    "\n",
    "df_1OL, df_2OL, df_3OL = threeway_comparer(df_OL_1, df_OL_2,  df_OL_3, 'figure_id', \n",
    "                         ['If there is RNA expression, what patterns does the RNA make?',\n",
    "                          'If there is protein expression, what patterns does the protein make?'], columns_drop_OL)\n",
    "\n",
    "dfaOL = (cohen_kappa_que(df_2OL, df_3OL))\n",
    "dfbOL = (cohen_kappa_que(df_2OL, df_1OL))\n",
    "dfcOL = (cohen_kappa_que(df_3OL, df_1OL))\n",
    "\n",
    "dfOL_mean = (dfaOL + dfbOL + dfcOL)/3\n",
    "\n",
    "\n",
    "df_simple_aOL = simple_agreement(df_3OL, df_2OL)\n",
    "df_simple_bOL = simple_agreement(df_1OL, df_2OL)\n",
    "df_simple_cOL = simple_agreement(df_1OL, df_3OL)\n",
    "\n",
    "dfOL_simple_mean = (df_simple_aOL + df_simple_bOL + df_simple_cOL)/3"
   ]
  },
  {
   "cell_type": "code",
   "execution_count": 19,
   "metadata": {},
   "outputs": [],
   "source": [
    "df_OL_agreement = df_1OL.copy()\n",
    "\n",
    "for column in df_OL_agreement.columns:\n",
    "\n",
    "    df_OL_agreement[column] = np.where(((df_1OL[column] != df_2OL[column]) & (df_1OL[column] == df_3OL[column])), 2, df_OL_agreement[column])\n",
    "    df_OL_agreement[column] = np.where(((df_1OL[column] != df_2OL[column]) & (df_2OL[column] == df_3OL[column])), 2, df_OL_agreement[column])\n",
    "\n",
    "    df_OL_agreement[column] = np.where(((df_2OL[column] != df_3OL[column]) & (df_2OL[column] == df_1OL[column])), 2, df_OL_agreement[column])\n",
    "    df_OL_agreement[column] = np.where(((df_2OL[column] != df_3OL[column]) & (df_3OL[column] == df_1OL[column])), 2, df_OL_agreement[column])\n",
    "\n",
    "    df_OL_agreement[column] = np.where(((df_1OL[column] != df_3OL[column]) & (df_1OL[column] == df_2OL[column])), 2, df_OL_agreement[column])\n",
    "    df_OL_agreement[column] = np.where(((df_1OL[column] != df_3OL[column]) & (df_3OL[column] == df_2OL[column])), 2, df_OL_agreement[column])\n",
    "\n",
    "    df_OL_agreement[column] = np.where(((df_1OL[column] == df_2OL[column]) & (df_3OL[column] == df_2OL[column]) & (df_3OL[column] == df_1OL[column])), 3, df_OL_agreement[column])\n",
    "    df_OL_agreement[column] = np.where(((df_1OL[column] != df_2OL[column]) & (df_3OL[column] != df_2OL[column]) & (df_3OL[column] != df_1OL[column])), 0, df_OL_agreement[column])\n",
    "\n",
    "#df_OL_agreement"
   ]
  },
  {
   "cell_type": "markdown",
   "metadata": {},
   "source": [
    "# Nerve"
   ]
  },
  {
   "cell_type": "code",
   "execution_count": 20,
   "metadata": {},
   "outputs": [],
   "source": [
    "columns_drop_nerve = ['General comments', \n",
    "                   'Flag this gene as a potential one to use for a figure in the paper?',\n",
    "                   'Is figure quality too poor?', \n",
    "                   'Nascent transcript level', \n",
    "                   'Is there obvious RNA/protein discordance (whole image)?', \n",
    "                   'Cytosolic RNA level', \n",
    "                   'What is the level of protein expression?', \n",
    "                   'What is the level of RNA expression?',\n",
    "                    'Unnamed: 0', \n",
    "                    'Is protein distribution cell-type specific?', \n",
    "                    'Is RNA distribution cell-type specific?']\n",
    "\n",
    "\n",
    "df_1nerve, df_2nerve, df_3nerve = threeway_comparer(df_nerve_1, df_nerve_2,  df_nerve_3, 'figure_id', \n",
    "                         ['What patterns does the RNA make?',\n",
    "                          'What patterns does the protein make?'], columns_drop_nerve)\n",
    "\n",
    "dfanerve = (cohen_kappa_que(df_2nerve, df_3nerve))\n",
    "dfbnerve = (cohen_kappa_que(df_2nerve, df_1nerve))\n",
    "dfcnerve = (cohen_kappa_que(df_3nerve, df_1nerve))\n",
    "\n",
    "dfnerve_mean = (dfanerve + dfbnerve + dfcnerve)/3\n",
    "\n",
    "\n",
    "df_simple_anerve = simple_agreement(df_3nerve, df_2nerve)\n",
    "df_simple_bnerve = simple_agreement(df_1nerve, df_2nerve)\n",
    "df_simple_cnerve = simple_agreement(df_1nerve, df_3nerve)\n",
    "\n",
    "dfnerve_simple_mean = (df_simple_anerve + df_simple_bnerve + df_simple_cnerve)/3"
   ]
  },
  {
   "cell_type": "code",
   "execution_count": 21,
   "metadata": {},
   "outputs": [],
   "source": [
    "df_nerve_agreement = df_1nerve.copy()\n",
    "\n",
    "for column in df_nerve_agreement.columns:\n",
    "\n",
    "    df_nerve_agreement[column] = np.where(((df_1nerve[column] != df_2nerve[column]) & (df_1nerve[column] == df_3nerve[column])), 2, df_nerve_agreement[column])\n",
    "    df_nerve_agreement[column] = np.where(((df_1nerve[column] != df_2nerve[column]) & (df_2nerve[column] == df_3nerve[column])), 2, df_nerve_agreement[column])\n",
    "\n",
    "    df_nerve_agreement[column] = np.where(((df_2nerve[column] != df_3nerve[column]) & (df_2nerve[column] == df_1nerve[column])), 2, df_nerve_agreement[column])\n",
    "    df_nerve_agreement[column] = np.where(((df_2nerve[column] != df_3nerve[column]) & (df_3nerve[column] == df_1nerve[column])), 2, df_nerve_agreement[column])\n",
    "\n",
    "    df_nerve_agreement[column] = np.where(((df_1nerve[column] != df_3nerve[column]) & (df_1nerve[column] == df_2nerve[column])), 2, df_nerve_agreement[column])\n",
    "    df_nerve_agreement[column] = np.where(((df_1nerve[column] != df_3nerve[column]) & (df_3nerve[column] == df_2nerve[column])), 2, df_nerve_agreement[column])\n",
    "\n",
    "    df_nerve_agreement[column] = np.where(((df_1nerve[column] == df_2nerve[column]) & (df_3nerve[column] == df_2nerve[column]) & (df_3nerve[column] == df_1nerve[column])), 3, df_nerve_agreement[column])\n",
    "    df_nerve_agreement[column] = np.where(((df_1nerve[column] != df_2nerve[column]) & (df_3nerve[column] != df_2nerve[column]) & (df_3nerve[column] != df_1nerve[column])), 0, df_nerve_agreement[column])\n",
    "\n",
    "#df_nerve_agreement"
   ]
  },
  {
   "cell_type": "code",
   "execution_count": 22,
   "metadata": {},
   "outputs": [],
   "source": [
    "df_OL_agreement = df_OL_agreement.add_prefix('Discordant_OL_')\n",
    "df_NMJ_agreement = df_NMJ_agreement.add_prefix('Discordant_NMJ_')\n",
    "df_VNC_agreement = df_VNC_agreement.add_prefix('Discordant_VNC_')\n",
    "df_nerve_agreement = df_nerve_agreement.add_prefix('Discordant_nerve_')\n",
    "df_MB_agreement = df_MB_agreement.add_prefix('Discordant_MB_')\n",
    "df_CB_agreement = df_CB_agreement.add_prefix('Discordant_CB_')\n"
   ]
  },
  {
   "cell_type": "code",
   "execution_count": 23,
   "metadata": {},
   "outputs": [],
   "source": [
    "dfmrg1 = df_OL_agreement.merge(df, left_index=True, right_on='OL_id')\n",
    "dfmrg2 = df_NMJ_agreement.merge(dfmrg1, left_index=True, right_on='NMJ_id')\n",
    "dfmrg3 = df_MB_agreement.merge(dfmrg2, left_index=True, right_on='MB_id')\n",
    "dfmrg4 = df_CB_agreement.merge(dfmrg3, left_index=True, right_on='CB_id')\n",
    "dfmrg5 = df_VNC_agreement.merge(dfmrg4, left_index=True, right_on='VNC_id')\n",
    "dfmrg6 = df_nerve_agreement.merge(dfmrg5, left_index=True, right_on='nerve_glia_id')"
   ]
  },
  {
   "cell_type": "code",
   "execution_count": 24,
   "metadata": {},
   "outputs": [],
   "source": [
    "dfmrg6.iloc[:, :-7].to_csv('scoring_agreement.csv', index=False)"
   ]
  },
  {
   "cell_type": "code",
   "execution_count": 26,
   "metadata": {},
   "outputs": [],
   "source": [
    "## Creating cohen Kappa and simple agreement matrix\n",
    "\n",
    "dfOL_mean = dfOL_mean.T.add_prefix('OL:').T\n",
    "dfNMJ_mean = dfNMJ_mean.T.add_prefix('NMJ:').T\n",
    "dfVNC_mean = dfVNC_mean.T.add_prefix('VNC:').T\n",
    "dfnerve_mean = dfnerve_mean.T.add_prefix('nerve:').T\n",
    "dfMB_mean = dfMB_mean.T.add_prefix('MB:').T\n",
    "dfCB_mean = dfCB_mean.T.add_prefix('CB:').T\n",
    "\n",
    "dfOL_simple_mean = dfOL_simple_mean.T.add_prefix('OL:').T\n",
    "dfNMJ_simple_mean = dfNMJ_simple_mean.T.add_prefix('NMJ:').T\n",
    "dfVNC_simple_mean = dfVNC_simple_mean.T.add_prefix('VNC:').T\n",
    "dfnerve_simple_mean = dfnerve_simple_mean.T.add_prefix('nerve:').T\n",
    "dfMB_simple_mean = dfMB_simple_mean.T.add_prefix('MB:').T\n",
    "dfCB_simple_mean = dfCB_simple_mean.T.add_prefix('CB:').T\n"
   ]
  },
  {
   "cell_type": "code",
   "execution_count": 27,
   "metadata": {},
   "outputs": [],
   "source": [
    "df_mean = pd.concat([dfOL_mean, dfVNC_mean, dfNMJ_mean, dfMB_mean, dfCB_mean, dfnerve_mean])\n"
   ]
  },
  {
   "cell_type": "code",
   "execution_count": 28,
   "metadata": {},
   "outputs": [],
   "source": [
    "df_mean_simple = pd.concat([dfOL_simple_mean, dfVNC_simple_mean, dfNMJ_simple_mean, dfMB_simple_mean, dfCB_simple_mean, dfnerve_simple_mean])\n",
    "df_mean_simple.reset_index(inplace=True)\n"
   ]
  },
  {
   "cell_type": "code",
   "execution_count": 29,
   "metadata": {},
   "outputs": [],
   "source": [
    "df_mean.merge(df_mean_simple, left_index=True, right_on='index').to_csv('metrics_agreement.csv', index=False)"
   ]
  },
  {
   "cell_type": "code",
   "execution_count": null,
   "metadata": {},
   "outputs": [],
   "source": []
  },
  {
   "cell_type": "code",
   "execution_count": null,
   "metadata": {},
   "outputs": [],
   "source": []
  }
 ],
 "metadata": {
  "kernelspec": {
   "display_name": "Python 3",
   "language": "python",
   "name": "python3"
  },
  "language_info": {
   "codemirror_mode": {
    "name": "ipython",
    "version": 3
   },
   "file_extension": ".py",
   "mimetype": "text/x-python",
   "name": "python",
   "nbconvert_exporter": "python",
   "pygments_lexer": "ipython3",
   "version": "3.8.3"
  }
 },
 "nbformat": 4,
 "nbformat_minor": 4
}
