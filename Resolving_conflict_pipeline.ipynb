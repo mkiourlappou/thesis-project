{
 "cells": [
  {
   "cell_type": "code",
   "execution_count": 1,
   "metadata": {},
   "outputs": [],
   "source": [
    "from matplotlib.colors import LinearSegmentedColormap\n",
    "import matplotlib.pyplot as plt\n",
    "import numpy as np\n",
    "import pandas as pd\n",
    "import random\n",
    "import seaborn as sns\n",
    "\n",
    "pd.set_option('display.max_columns', None)\n",
    "pd.set_option('display.max_rows', None)\n",
    "\n",
    "\n",
    "df = pd.read_excel('smFISH_screen_annotations.xlsx', header=[2])\n",
    "df = df.iloc[1:201, 1:11]"
   ]
  },
  {
   "cell_type": "code",
   "execution_count": 2,
   "metadata": {},
   "outputs": [],
   "source": [
    "df_VNC_1 = pd.read_csv('scoringResults/VNC/rater1.csv')\n",
    "df_VNC_2 = pd.read_csv('scoringResults/VNC/rater2.csv')\n",
    "df_VNC_3 = pd.read_csv('scoringResults/VNC/rater3.csv')\n",
    "\n",
    "df_NMJ_1 = pd.read_csv('scoringResults/NMJ/rater1.csv')\n",
    "df_NMJ_2 = pd.read_csv('scoringResults/NMJ/rater2.csv')\n",
    "df_NMJ_3 = pd.read_csv('scoringResults/NMJ/rater3.csv')\n",
    "\n",
    "df_CB_1 = pd.read_csv('scoringResults/CB/rater1.csv')\n",
    "df_CB_2 = pd.read_csv('scoringResults/CB/rater2.csv')\n",
    "df_CB_3 = pd.read_csv('scoringResults/CB/rater3.csv')\n",
    "\n",
    "df_MB_1 = pd.read_csv('scoringResults/MB/rater1.csv')\n",
    "df_MB_2 = pd.read_csv('scoringResults/MB/rater2.csv')\n",
    "df_MB_3 = pd.read_csv('scoringResults/MB/rater3.csv')\n",
    "\n",
    "df_OL_1 = pd.read_csv('scoringResults/OL/rater1.csv')\n",
    "df_OL_2 = pd.read_csv('scoringResults/OL/rater2.csv')\n",
    "df_OL_3 = pd.read_csv('scoringResults/OL/rater3.csv')\n",
    "\n",
    "df_nerve_1 = pd.read_csv('scoringResults/nerve/rater1.csv')\n",
    "df_nerve_2 = pd.read_csv('scoringResults/nerve/rater2.csv')\n",
    "df_nerve_3 = pd.read_csv('scoringResults/nerve/rater3.csv')"
   ]
  },
  {
   "cell_type": "code",
   "execution_count": 3,
   "metadata": {},
   "outputs": [],
   "source": [
    "def conflict_resolver(df1, df2, df3, compartment, columns_drop):\n",
    "    merge_column = compartment + '_id'\n",
    "    df1 = df1.merge(df[merge_column], left_on='figure_id', right_on = merge_column, how='inner')\n",
    "    df2 = df2.merge(df[merge_column], left_on='figure_id', right_on = merge_column, how='inner')\n",
    "    df3 = df3.merge(df[merge_column], left_on='figure_id', right_on = merge_column, how='inner')\n",
    "    \n",
    "    df1 = df1.drop(columns= merge_column, axis=1)\n",
    "    df2 = df2.drop(columns= merge_column, axis=1)\n",
    "    df3 = df3.drop(columns= merge_column, axis=1)\n",
    "    \n",
    "    df_common = df1.merge(df2, on='figure_id', how='inner')\n",
    "    common_index = list(df_common.merge(df3, on='figure_id', how='inner')['figure_id'])\n",
    "    common_columns = list((df2.columns.intersection(df1.columns)).intersection(df3.columns))\n",
    "    \n",
    "    common_changed = []\n",
    "    original_dfs = []\n",
    "    for dataframe in [df1, df2, df3]:\n",
    "        dfcommon = dataframe[common_columns].set_index('figure_id')\n",
    "        dfcommon = dfcommon[dfcommon.index.isin(common_index)].sort_index()\n",
    "        dfcommon = dfcommon.drop(columns= columns_drop)\n",
    "        dfcommon_changed = dfcommon.replace({'None': 0, 'Low': 1/3, 'Moderate': 2/3, 'High': 1, 'No': 0, 'Yes': 1})\n",
    "        dfcommon.fillna('Non applicable / Missing Image', inplace=True)\n",
    "        dfcommon_changed.fillna('Non applicable / Missing Image', inplace=True)\n",
    "        common_changed.append(dfcommon_changed)\n",
    "        original_dfs.append(dfcommon)\n",
    "    \n",
    "    df_1, df_2, df_3 = common_changed[0], common_changed[1], common_changed[2]\n",
    "    df1orig, df2orig, df3orig = original_dfs[0], original_dfs[1], original_dfs[2]\n",
    "    \n",
    "    df_1.fillna('Unresolved', inplace=True)\n",
    "    \n",
    "    agreement_3_list = []\n",
    "    agreement_1_2_list = []\n",
    "    agreement_1_3_list = []\n",
    "    agreement_2_3_list = []\n",
    "\n",
    "    dffinal = pd.DataFrame(index=df_1.index, columns=df_1.columns)\n",
    "\n",
    "    for column in df_1.columns:\n",
    "\n",
    "        agreement_3_list = ((df_1[column] == df_2[column]) & (df_2[column] == df_3[column]))\n",
    "        agreement_3_list = list(agreement_3_list[agreement_3_list].index)\n",
    "        dffinal.loc[agreement_3_list, column] = df1orig.loc[agreement_3_list, column]\n",
    "\n",
    "        agreement_1_2_list = ((df_1[column] == df_2[column]))\n",
    "        agreement_1_2_list = list(agreement_1_2_list[agreement_1_2_list].index)\n",
    "        dffinal.loc[agreement_1_2_list, column] = df1orig.loc[agreement_1_2_list, column]\n",
    "\n",
    "        agreement_1_3_list = ((df_1[column] == df_3[column]))\n",
    "        agreement_1_3_list = list(agreement_1_3_list[agreement_1_3_list].index)\n",
    "        dffinal.loc[agreement_1_3_list, column] = df1orig.loc[agreement_1_3_list, column]\n",
    "\n",
    "        agreement_2_3_list = ((df_2[column] == df_3[column]))\n",
    "        agreement_2_3_list = list(agreement_2_3_list[agreement_2_3_list].index)\n",
    "        dffinal.loc[agreement_2_3_list, column] = df2orig.loc[agreement_2_3_list, column]\n",
    "                \n",
    "    return dffinal"
   ]
  },
  {
   "cell_type": "code",
   "execution_count": 4,
   "metadata": {},
   "outputs": [
    {
     "name": "stderr",
     "output_type": "stream",
     "text": [
      "/Users/mariakiourlappou/opt/anaconda3/lib/python3.8/site-packages/pandas/core/indexes/base.py:6982: FutureWarning: In a future version, the Index constructor will not infer numeric dtypes when passed object-dtype sequences (matching Series behavior)\n",
      "  return Index(sequences[0], name=names)\n",
      "/Users/mariakiourlappou/opt/anaconda3/lib/python3.8/site-packages/pandas/core/indexes/base.py:6982: FutureWarning: In a future version, the Index constructor will not infer numeric dtypes when passed object-dtype sequences (matching Series behavior)\n",
      "  return Index(sequences[0], name=names)\n",
      "/Users/mariakiourlappou/opt/anaconda3/lib/python3.8/site-packages/pandas/core/indexes/base.py:6982: FutureWarning: In a future version, the Index constructor will not infer numeric dtypes when passed object-dtype sequences (matching Series behavior)\n",
      "  return Index(sequences[0], name=names)\n"
     ]
    }
   ],
   "source": [
    "NMJ_resolved = conflict_resolver(df_NMJ_1, df_NMJ_2, df_NMJ_3, 'NMJ', ['General comments', 'Is figure quality too poor?', 'Flag this gene as a potential one to use for a figure in the paper?', 'What patterns does the RNA make?', 'What patterns does the protein make?', 'Is RNA distribution cell-type specific?', 'Is protein distribution cell-type specific?'])"
   ]
  },
  {
   "cell_type": "code",
   "execution_count": 5,
   "metadata": {},
   "outputs": [
    {
     "name": "stderr",
     "output_type": "stream",
     "text": [
      "/Users/mariakiourlappou/opt/anaconda3/lib/python3.8/site-packages/pandas/core/indexes/base.py:6982: FutureWarning: In a future version, the Index constructor will not infer numeric dtypes when passed object-dtype sequences (matching Series behavior)\n",
      "  return Index(sequences[0], name=names)\n",
      "/Users/mariakiourlappou/opt/anaconda3/lib/python3.8/site-packages/pandas/core/indexes/base.py:6982: FutureWarning: In a future version, the Index constructor will not infer numeric dtypes when passed object-dtype sequences (matching Series behavior)\n",
      "  return Index(sequences[0], name=names)\n",
      "/Users/mariakiourlappou/opt/anaconda3/lib/python3.8/site-packages/pandas/core/indexes/base.py:6982: FutureWarning: In a future version, the Index constructor will not infer numeric dtypes when passed object-dtype sequences (matching Series behavior)\n",
      "  return Index(sequences[0], name=names)\n"
     ]
    }
   ],
   "source": [
    "CB_resolved = conflict_resolver(df_CB_1, df_CB_2, df_CB_3, 'CB', ['General comments', 'Is figure quality too poor?', 'Flag this gene as a potential one to use for a figure in the paper?', 'If there is RNA expression, what patterns does the RNA make?', 'If there is protein expression, what patterns does the protein make?'])"
   ]
  },
  {
   "cell_type": "code",
   "execution_count": 6,
   "metadata": {},
   "outputs": [
    {
     "name": "stderr",
     "output_type": "stream",
     "text": [
      "/Users/mariakiourlappou/opt/anaconda3/lib/python3.8/site-packages/pandas/core/indexes/base.py:6982: FutureWarning: In a future version, the Index constructor will not infer numeric dtypes when passed object-dtype sequences (matching Series behavior)\n",
      "  return Index(sequences[0], name=names)\n",
      "/Users/mariakiourlappou/opt/anaconda3/lib/python3.8/site-packages/pandas/core/indexes/base.py:6982: FutureWarning: In a future version, the Index constructor will not infer numeric dtypes when passed object-dtype sequences (matching Series behavior)\n",
      "  return Index(sequences[0], name=names)\n",
      "/Users/mariakiourlappou/opt/anaconda3/lib/python3.8/site-packages/pandas/core/indexes/base.py:6982: FutureWarning: In a future version, the Index constructor will not infer numeric dtypes when passed object-dtype sequences (matching Series behavior)\n",
      "  return Index(sequences[0], name=names)\n"
     ]
    }
   ],
   "source": [
    "MB_resolved = conflict_resolver(df_MB_1, df_MB_2, df_MB_3, 'MB', ['General comments', 'Is figure quality too poor?', 'Flag this gene as a potential one to use for a figure in the paper?', 'If there is RNA expression, what patterns does the RNA make?', 'If there is protein expression, what patterns does the protein make?'])"
   ]
  },
  {
   "cell_type": "code",
   "execution_count": 7,
   "metadata": {},
   "outputs": [
    {
     "name": "stderr",
     "output_type": "stream",
     "text": [
      "/Users/mariakiourlappou/opt/anaconda3/lib/python3.8/site-packages/pandas/core/indexes/base.py:6982: FutureWarning: In a future version, the Index constructor will not infer numeric dtypes when passed object-dtype sequences (matching Series behavior)\n",
      "  return Index(sequences[0], name=names)\n",
      "/Users/mariakiourlappou/opt/anaconda3/lib/python3.8/site-packages/pandas/core/indexes/base.py:6982: FutureWarning: In a future version, the Index constructor will not infer numeric dtypes when passed object-dtype sequences (matching Series behavior)\n",
      "  return Index(sequences[0], name=names)\n",
      "/Users/mariakiourlappou/opt/anaconda3/lib/python3.8/site-packages/pandas/core/indexes/base.py:6982: FutureWarning: In a future version, the Index constructor will not infer numeric dtypes when passed object-dtype sequences (matching Series behavior)\n",
      "  return Index(sequences[0], name=names)\n"
     ]
    }
   ],
   "source": [
    "OL_resolved = conflict_resolver(df_OL_1, df_OL_2, df_OL_3, 'OL', ['General comments', 'Flag this gene as a potential one to use for a figure in the paper?', 'If there is RNA expression, what patterns does the RNA make?', 'If there is protein expression, what patterns does the protein make?'])"
   ]
  },
  {
   "cell_type": "code",
   "execution_count": 8,
   "metadata": {},
   "outputs": [
    {
     "name": "stderr",
     "output_type": "stream",
     "text": [
      "/Users/mariakiourlappou/opt/anaconda3/lib/python3.8/site-packages/pandas/core/indexes/base.py:6982: FutureWarning: In a future version, the Index constructor will not infer numeric dtypes when passed object-dtype sequences (matching Series behavior)\n",
      "  return Index(sequences[0], name=names)\n",
      "/Users/mariakiourlappou/opt/anaconda3/lib/python3.8/site-packages/pandas/core/indexes/base.py:6982: FutureWarning: In a future version, the Index constructor will not infer numeric dtypes when passed object-dtype sequences (matching Series behavior)\n",
      "  return Index(sequences[0], name=names)\n",
      "/Users/mariakiourlappou/opt/anaconda3/lib/python3.8/site-packages/pandas/core/indexes/base.py:6982: FutureWarning: In a future version, the Index constructor will not infer numeric dtypes when passed object-dtype sequences (matching Series behavior)\n",
      "  return Index(sequences[0], name=names)\n"
     ]
    }
   ],
   "source": [
    "VNC_resolved = conflict_resolver(df_VNC_1, df_VNC_2, df_VNC_3, 'VNC', ['General comments', 'Flag this gene as a potential one to use for a figure in the paper?', 'If there is RNA expression, what patterns does the RNA make?', 'If there is protein expression, what patterns does the protein make?', 'Is RNA present in midline glia?', 'Is protein present in midline glia?'])"
   ]
  },
  {
   "cell_type": "code",
   "execution_count": 9,
   "metadata": {},
   "outputs": [
    {
     "name": "stderr",
     "output_type": "stream",
     "text": [
      "/Users/mariakiourlappou/opt/anaconda3/lib/python3.8/site-packages/pandas/core/indexes/base.py:6982: FutureWarning: In a future version, the Index constructor will not infer numeric dtypes when passed object-dtype sequences (matching Series behavior)\n",
      "  return Index(sequences[0], name=names)\n",
      "/Users/mariakiourlappou/opt/anaconda3/lib/python3.8/site-packages/pandas/core/indexes/base.py:6982: FutureWarning: In a future version, the Index constructor will not infer numeric dtypes when passed object-dtype sequences (matching Series behavior)\n",
      "  return Index(sequences[0], name=names)\n",
      "/Users/mariakiourlappou/opt/anaconda3/lib/python3.8/site-packages/pandas/core/indexes/base.py:6982: FutureWarning: In a future version, the Index constructor will not infer numeric dtypes when passed object-dtype sequences (matching Series behavior)\n",
      "  return Index(sequences[0], name=names)\n"
     ]
    }
   ],
   "source": [
    "nerve_resolved = conflict_resolver(df_nerve_1, df_nerve_2, df_nerve_3, 'nerve_glia', ['General comments', 'Flag this gene as a potential one to use for a figure in the paper?', 'What patterns does the RNA make?', 'What patterns does the protein make?'])\n"
   ]
  },
  {
   "cell_type": "markdown",
   "metadata": {},
   "source": [
    "# Table assessing severity of conflicts"
   ]
  },
  {
   "cell_type": "code",
   "execution_count": 11,
   "metadata": {},
   "outputs": [],
   "source": [
    "# Input are the resolved dataframes\n",
    "\n",
    "def just_conflicts(df, df_1, df_2, df_3):\n",
    "    mask = pd.isnull(df).stack()\n",
    "    list_conflicts = mask.loc[mask].index.tolist()\n",
    "    \n",
    "    nan_original_values = []\n",
    "    for df in [df_1, df_2, df_3]:\n",
    "        for pair in list_conflicts:\n",
    "            nan_original_values.append(df.set_index('figure_id').loc[pair])\n",
    "    \n",
    "    shape = int(len(nan_original_values)/3)\n",
    "    index = pd.MultiIndex.from_tuples(list_conflicts, names=[\"Figure_ID\", \"Question\"])\n",
    "    s = pd.Series(np.reshape(nan_original_values, (3, shape))[0], index=index, name= 'Scorer 1')\n",
    "    \n",
    "    conflicts_each = pd.DataFrame(s)\n",
    "    conflicts_each['Scorer 2'] = np.reshape(nan_original_values, (3, shape))[1]\n",
    "    conflicts_each['Scorer 3'] = np.reshape(nan_original_values, (3, shape))[2]\n",
    "    \n",
    "    return conflicts_each"
   ]
  },
  {
   "cell_type": "code",
   "execution_count": 12,
   "metadata": {},
   "outputs": [],
   "source": [
    "CB_conflicts = just_conflicts(CB_resolved, df_CB_1, df_CB_2, df_CB_3)"
   ]
  },
  {
   "cell_type": "code",
   "execution_count": 13,
   "metadata": {},
   "outputs": [],
   "source": [
    "NMJ_conflicts = just_conflicts(NMJ_resolved, df_NMJ_1, df_NMJ_2, df_NMJ_3)"
   ]
  },
  {
   "cell_type": "code",
   "execution_count": 14,
   "metadata": {},
   "outputs": [],
   "source": [
    "MB_conflicts = just_conflicts(MB_resolved, df_MB_1, df_MB_2, df_MB_3)"
   ]
  },
  {
   "cell_type": "code",
   "execution_count": 15,
   "metadata": {},
   "outputs": [],
   "source": [
    "OL_conflicts = just_conflicts(OL_resolved, df_OL_1, df_OL_2, df_OL_3)"
   ]
  },
  {
   "cell_type": "code",
   "execution_count": 16,
   "metadata": {},
   "outputs": [],
   "source": [
    "VNC_conflicts = just_conflicts(VNC_resolved, df_VNC_1, df_VNC_2, df_VNC_3)"
   ]
  },
  {
   "cell_type": "code",
   "execution_count": 17,
   "metadata": {},
   "outputs": [],
   "source": [
    "nerve_conflicts = just_conflicts(nerve_resolved, df_nerve_1, df_nerve_2, df_nerve_3)"
   ]
  },
  {
   "cell_type": "markdown",
   "metadata": {},
   "source": [
    "## Resolving conflicts by assigning mean value to level questions"
   ]
  },
  {
   "cell_type": "code",
   "execution_count": 18,
   "metadata": {},
   "outputs": [],
   "source": [
    "def conflict_resolver_level(df_conflicts, df):\n",
    "    df_conflicts.replace({'None': 1, 'Low': 2, 'Moderate': 3, 'High': 4}, inplace=True)\n",
    "    df_conflicts = df_conflicts[~df_conflicts['Scorer 1'].str.contains('Yes|No|nan', na=False)]\n",
    "    df_conflicts['mean'] = df_conflicts.mean(axis=1)\n",
    "    index_list_low = df_conflicts[(df_conflicts['mean'] == 2.0)].index.values\n",
    "    index_list_moderate = df_conflicts[(df_conflicts['mean'] == 3.0)].index.values\n",
    "    \n",
    "    for pair in index_list_low:\n",
    "        df.loc[pair] = 'Low'\n",
    "        \n",
    "    for pair in index_list_moderate:\n",
    "        df.loc[pair] = 'Moderate'\n",
    "\n",
    "    return df"
   ]
  },
  {
   "cell_type": "code",
   "execution_count": 19,
   "metadata": {},
   "outputs": [
    {
     "name": "stderr",
     "output_type": "stream",
     "text": [
      "<ipython-input-18-d9317ecc5f43>:4: SettingWithCopyWarning: \n",
      "A value is trying to be set on a copy of a slice from a DataFrame.\n",
      "Try using .loc[row_indexer,col_indexer] = value instead\n",
      "\n",
      "See the caveats in the documentation: https://pandas.pydata.org/pandas-docs/stable/user_guide/indexing.html#returning-a-view-versus-a-copy\n",
      "  df_conflicts['mean'] = df_conflicts.mean(axis=1)\n"
     ]
    }
   ],
   "source": [
    "MB_level_resolved = conflict_resolver_level(MB_conflicts, MB_resolved)"
   ]
  },
  {
   "cell_type": "code",
   "execution_count": 20,
   "metadata": {},
   "outputs": [
    {
     "name": "stderr",
     "output_type": "stream",
     "text": [
      "<ipython-input-18-d9317ecc5f43>:4: SettingWithCopyWarning: \n",
      "A value is trying to be set on a copy of a slice from a DataFrame.\n",
      "Try using .loc[row_indexer,col_indexer] = value instead\n",
      "\n",
      "See the caveats in the documentation: https://pandas.pydata.org/pandas-docs/stable/user_guide/indexing.html#returning-a-view-versus-a-copy\n",
      "  df_conflicts['mean'] = df_conflicts.mean(axis=1)\n"
     ]
    }
   ],
   "source": [
    "CB_level_resolved = conflict_resolver_level(CB_conflicts, CB_resolved)"
   ]
  },
  {
   "cell_type": "code",
   "execution_count": 21,
   "metadata": {},
   "outputs": [
    {
     "name": "stderr",
     "output_type": "stream",
     "text": [
      "<ipython-input-18-d9317ecc5f43>:4: SettingWithCopyWarning: \n",
      "A value is trying to be set on a copy of a slice from a DataFrame.\n",
      "Try using .loc[row_indexer,col_indexer] = value instead\n",
      "\n",
      "See the caveats in the documentation: https://pandas.pydata.org/pandas-docs/stable/user_guide/indexing.html#returning-a-view-versus-a-copy\n",
      "  df_conflicts['mean'] = df_conflicts.mean(axis=1)\n"
     ]
    }
   ],
   "source": [
    "NMJ_level_resolved = conflict_resolver_level(NMJ_conflicts, NMJ_resolved)"
   ]
  },
  {
   "cell_type": "code",
   "execution_count": 22,
   "metadata": {},
   "outputs": [
    {
     "name": "stderr",
     "output_type": "stream",
     "text": [
      "<ipython-input-18-d9317ecc5f43>:4: SettingWithCopyWarning: \n",
      "A value is trying to be set on a copy of a slice from a DataFrame.\n",
      "Try using .loc[row_indexer,col_indexer] = value instead\n",
      "\n",
      "See the caveats in the documentation: https://pandas.pydata.org/pandas-docs/stable/user_guide/indexing.html#returning-a-view-versus-a-copy\n",
      "  df_conflicts['mean'] = df_conflicts.mean(axis=1)\n"
     ]
    }
   ],
   "source": [
    "OL_level_resolved = conflict_resolver_level(OL_conflicts, OL_resolved)"
   ]
  },
  {
   "cell_type": "code",
   "execution_count": 23,
   "metadata": {},
   "outputs": [
    {
     "name": "stderr",
     "output_type": "stream",
     "text": [
      "<ipython-input-18-d9317ecc5f43>:4: SettingWithCopyWarning: \n",
      "A value is trying to be set on a copy of a slice from a DataFrame.\n",
      "Try using .loc[row_indexer,col_indexer] = value instead\n",
      "\n",
      "See the caveats in the documentation: https://pandas.pydata.org/pandas-docs/stable/user_guide/indexing.html#returning-a-view-versus-a-copy\n",
      "  df_conflicts['mean'] = df_conflicts.mean(axis=1)\n"
     ]
    }
   ],
   "source": [
    "VNC_level_resolved = conflict_resolver_level(VNC_conflicts, VNC_resolved)"
   ]
  },
  {
   "cell_type": "code",
   "execution_count": 24,
   "metadata": {},
   "outputs": [
    {
     "name": "stderr",
     "output_type": "stream",
     "text": [
      "<ipython-input-18-d9317ecc5f43>:4: FutureWarning: Dropping of nuisance columns in DataFrame reductions (with 'numeric_only=None') is deprecated; in a future version this will raise TypeError.  Select only valid columns before calling the reduction.\n",
      "  df_conflicts['mean'] = df_conflicts.mean(axis=1)\n",
      "<ipython-input-18-d9317ecc5f43>:4: SettingWithCopyWarning: \n",
      "A value is trying to be set on a copy of a slice from a DataFrame.\n",
      "Try using .loc[row_indexer,col_indexer] = value instead\n",
      "\n",
      "See the caveats in the documentation: https://pandas.pydata.org/pandas-docs/stable/user_guide/indexing.html#returning-a-view-versus-a-copy\n",
      "  df_conflicts['mean'] = df_conflicts.mean(axis=1)\n"
     ]
    }
   ],
   "source": [
    "nerve_level_resolved = conflict_resolver_level(nerve_conflicts, nerve_resolved)"
   ]
  },
  {
   "cell_type": "markdown",
   "metadata": {},
   "source": [
    "### Creating the file to import the cases to Zegami"
   ]
  },
  {
   "cell_type": "code",
   "execution_count": 32,
   "metadata": {},
   "outputs": [],
   "source": [
    "just_conflicts(MB_level_resolved, df_MB_1, df_MB_2, df_MB_3).to_csv('scoringResults/MB/MB_conflicts.csv')"
   ]
  },
  {
   "cell_type": "code",
   "execution_count": 33,
   "metadata": {},
   "outputs": [],
   "source": [
    "just_conflicts(CB_level_resolved, df_CB_1, df_CB_2, df_CB_3).to_csv('scoringResults/CB/CB_conflicts.csv')"
   ]
  },
  {
   "cell_type": "code",
   "execution_count": 34,
   "metadata": {},
   "outputs": [],
   "source": [
    "just_conflicts(NMJ_level_resolved, df_NMJ_1, df_NMJ_2, df_NMJ_3).to_csv('scoringResults/NMJ/NMJ_conflicts.csv')"
   ]
  },
  {
   "cell_type": "code",
   "execution_count": 35,
   "metadata": {},
   "outputs": [],
   "source": [
    "just_conflicts(OL_level_resolved, df_OL_1, df_OL_2, df_OL_3).to_csv('scoringResults/OL/OL_conflicts.csv')"
   ]
  },
  {
   "cell_type": "code",
   "execution_count": 36,
   "metadata": {},
   "outputs": [],
   "source": [
    "just_conflicts(VNC_level_resolved, df_VNC_1, df_VNC_2, df_VNC_3).to_csv('scoringResults/VNC/VNC_conflicts.csv')"
   ]
  },
  {
   "cell_type": "code",
   "execution_count": 37,
   "metadata": {},
   "outputs": [],
   "source": [
    "just_conflicts(nerve_level_resolved, df_nerve_1, df_nerve_2, df_nerve_3).to_csv('scoringResults/nerve/nerve_conflicts.csv')"
   ]
  },
  {
   "cell_type": "markdown",
   "metadata": {},
   "source": [
    "### Importing the resolved cases from Zegami"
   ]
  },
  {
   "cell_type": "code",
   "execution_count": 100,
   "metadata": {},
   "outputs": [],
   "source": [
    "resolved_CB_zegami = pd.read_csv('scoringResults/CB/CB_conflicts_toberesolved.csv')\n",
    "resolved_MB_zegami = pd.read_csv('scoringResults/MB/MB_conflicts_toberesolved.csv')\n",
    "resolved_OL_zegami = pd.read_csv('scoringResults/OL/OL_conflicts_toberesolved.csv')\n",
    "resolved_NMJ_zegami = pd.read_csv('scoringResults/NMJ/NMJ_conflicts_toberesolved.csv')\n",
    "resolved_VNC_zegami = pd.read_csv('scoringResults/VNC/VNC_conflicts_toberesolved.csv')\n",
    "resolved_nerve_zegami = pd.read_csv('scoringResults/nerve/nerve_conflicts_toberesolved.csv')"
   ]
  },
  {
   "cell_type": "code",
   "execution_count": 101,
   "metadata": {},
   "outputs": [],
   "source": [
    "for i in range(0, len(resolved_OL_zegami)):\n",
    "    OL_level_resolved.loc[resolved_OL_zegami.loc[i, 'Figure_ID'], resolved_OL_zegami.loc[i, 'Question']] \\\n",
    "    = resolved_OL_zegami.loc[i, 'Tags']\n",
    "    \n",
    "for i in range(0, len(resolved_CB_zegami)):\n",
    "    CB_level_resolved.loc[resolved_CB_zegami.loc[i, 'Figure_ID'], resolved_CB_zegami.loc[i, 'Question']] \\\n",
    "    = resolved_CB_zegami.loc[i, 'Tags']\n",
    "\n",
    "for i in range(0, len(resolved_MB_zegami)):\n",
    "    MB_level_resolved.loc[resolved_MB_zegami.loc[i, 'Figure_ID'], resolved_MB_zegami.loc[i, 'Question']] \\\n",
    "    = resolved_MB_zegami.loc[i, 'Tags']\n",
    "    \n",
    "for i in range(0, len(resolved_NMJ_zegami)):\n",
    "    NMJ_level_resolved.loc[resolved_NMJ_zegami.loc[i, 'Figure_ID'], resolved_NMJ_zegami.loc[i, 'Question']] \\\n",
    "    = resolved_NMJ_zegami.loc[i, 'Tags']\n",
    "\n",
    "for i in range(0, len(resolved_VNC_zegami)):\n",
    "    VNC_level_resolved.loc[resolved_VNC_zegami.loc[i, 'Figure_ID'], resolved_VNC_zegami.loc[i, 'Question']] \\\n",
    "    = resolved_VNC_zegami.loc[i, 'Tags']\n",
    "\n",
    "for i in range(0, len(resolved_nerve_zegami)):\n",
    "    nerve_level_resolved.loc[resolved_nerve_zegami.loc[i, 'Figure_ID'], resolved_nerve_zegami.loc[i, 'Question']] \\\n",
    "    = resolved_nerve_zegami.loc[i, 'Tags']"
   ]
  },
  {
   "cell_type": "markdown",
   "metadata": {},
   "source": [
    "### Creating the FINAL RESOLVED annotations sheet"
   ]
  },
  {
   "cell_type": "code",
   "execution_count": 102,
   "metadata": {},
   "outputs": [],
   "source": [
    "#OL_level_resolved.to_csv('OL_resolved.csv')\n",
    "#MB_level_resolved.to_csv('MB_resolved.csv')\n",
    "#CB_level_resolved.to_csv('CB_resolved.csv')\n",
    "#NMJ_level_resolved.to_csv('NMJ_resolved.csv')\n",
    "#VNC_level_resolved.to_csv('VNC_resolved.csv')\n",
    "#nerve_level_resolved.to_csv('nerve_resolved.csv')"
   ]
  },
  {
   "cell_type": "code",
   "execution_count": null,
   "metadata": {},
   "outputs": [],
   "source": []
  },
  {
   "cell_type": "code",
   "execution_count": null,
   "metadata": {},
   "outputs": [],
   "source": []
  },
  {
   "cell_type": "code",
   "execution_count": null,
   "metadata": {},
   "outputs": [],
   "source": []
  },
  {
   "cell_type": "code",
   "execution_count": null,
   "metadata": {},
   "outputs": [],
   "source": []
  },
  {
   "cell_type": "code",
   "execution_count": null,
   "metadata": {},
   "outputs": [],
   "source": []
  },
  {
   "cell_type": "code",
   "execution_count": null,
   "metadata": {},
   "outputs": [],
   "source": []
  }
 ],
 "metadata": {
  "kernelspec": {
   "display_name": "Python 3",
   "language": "python",
   "name": "python3"
  },
  "language_info": {
   "codemirror_mode": {
    "name": "ipython",
    "version": 3
   },
   "file_extension": ".py",
   "mimetype": "text/x-python",
   "name": "python",
   "nbconvert_exporter": "python",
   "pygments_lexer": "ipython3",
   "version": "3.8.3"
  }
 },
 "nbformat": 4,
 "nbformat_minor": 4
}
